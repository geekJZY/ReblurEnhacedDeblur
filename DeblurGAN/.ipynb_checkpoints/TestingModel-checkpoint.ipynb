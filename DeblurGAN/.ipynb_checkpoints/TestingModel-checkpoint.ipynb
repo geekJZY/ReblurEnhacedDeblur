{
 "cells": [
  {
   "cell_type": "code",
   "execution_count": 7,
   "metadata": {},
   "outputs": [
    {
     "name": "stdout",
     "output_type": "stream",
     "text": [
      "['test.py', '--dataroot', '/scratch/user/jiangziyu/test/', '--model', 'test', '--dataset_mode', 'single', '--learn_residual', '--resize_or_crop', 'False']\n",
      "------------ Options -------------\n",
      "aspect_ratio: 1.0\n",
      "batchSize: 1\n",
      "checkpoints_dir: ./checkpoints\n",
      "dataroot: /scratch/user/jiangziyu/test/\n",
      "dataset_mode: single\n",
      "display_id: 1\n",
      "display_port: 8097\n",
      "display_single_pane_ncols: 0\n",
      "display_winsize: 256\n",
      "fineSize: 256\n",
      "gan_type: wgan-gp\n",
      "gpu_ids: [0]\n",
      "how_many: 5000\n",
      "input_nc: 3\n",
      "isTrain: False\n",
      "learn_residual: True\n",
      "loadSizeX: 640\n",
      "loadSizeY: 360\n",
      "max_dataset_size: inf\n",
      "model: test\n",
      "nThreads: 2\n",
      "n_layers_D: 3\n",
      "name: experiment_name\n",
      "ndf: 64\n",
      "ngf: 64\n",
      "no_dropout: False\n",
      "no_flip: False\n",
      "norm: instance\n",
      "ntest: inf\n",
      "output_nc: 3\n",
      "phase: test\n",
      "resize_or_crop: False\n",
      "results_dir: ./results/\n",
      "serial_batches: False\n",
      "which_direction: AtoB\n",
      "which_epoch: latest\n",
      "which_model_netD: basic\n",
      "which_model_netG: resnet_9blocks\n",
      "-------------- End ----------------\n"
     ]
    }
   ],
   "source": [
    "import time\n",
    "import os\n",
    "import torch\n",
    "import sys\n",
    "from options.test_options import TestOptions\n",
    "from data.test_dataset import testDataSet\n",
    "\n",
    "sys.argv = [\"test.py\", \"--dataroot\" ,\"/scratch/user/jiangziyu/test/\" ,\"--model\" ,\"test\" ,\"--dataset_mode\" ,\"single\" ,\"--learn_residual\" ,\"--resize_or_crop\" ,\"False\"]\n",
    "\n",
    "opt = TestOptions().parse()\n",
    "opt.nThreads = 1   # test code only supports nThreads = 1\n",
    "opt.batchSize = 1  # test code only supports batchSize = 1\n",
    "opt.serial_batches = True  # no shuffle\n",
    "opt.no_flip = True  # no flip\n",
    "\n",
    "data_set = testDataSet()\n",
    "data_set.initialize(opt)\n",
    "data_loader = torch.utils.data.DataLoader(\n",
    "            data_set,\n",
    "            batch_size=opt.batchSize,\n",
    "            shuffle=not opt.serial_batches,\n",
    "            num_workers=int(opt.nThreads))"
   ]
  },
  {
   "cell_type": "code",
   "execution_count": null,
   "metadata": {},
   "outputs": [],
   "source": [
    "from models.models import create_model\n",
    "from util.visualizer import Visualizer\n",
    "from pdb import set_trace as st\n",
    "from util import html\n",
    "from util.metrics import PSNR\n",
    "import ssim\n",
    "from PIL import Image\n",
    "\n",
    "# test\n",
    "avgPSNR = 0.0\n",
    "avgSSIM = 0.0\n",
    "counter = 0\n",
    "\n",
    "for i, data in enumerate(dataset):\n",
    "    if i >= opt.how_many:\n",
    "        break\n",
    "    counter = i\n",
    "    model.set_input(data)\n",
    "    model.test()\n",
    "    visuals = model.get_current_visuals()\n",
    "    avgPSNR += PSNR(visuals['fake_B'],visuals['real_B'])\n",
    "    pilFake = Image.fromarray(visuals['fake_B'])\n",
    "    pilReal = Image.fromarray(visuals['real_B'])\n",
    "    avgSSIM += SSIM(pilFake).cw_ssim_value(pilReal)\n",
    "    img_path = model.get_image_paths()\n",
    "    print('process image... %s' % img_path)\n",
    "    visualizer.save_images(webpage, visuals, img_path)\n",
    "\n",
    "avgPSNR /= counter\n",
    "avgSSIM /= counter\n",
    "print('PSNR = %f, SSIM = %f' % (avgPSNR, avgSSIM))"
   ]
  },
  {
   "cell_type": "code",
   "execution_count": null,
   "metadata": {},
   "outputs": [],
   "source": []
  }
 ],
 "metadata": {
  "kernelspec": {
   "display_name": "Python 3",
   "language": "python",
   "name": "python3"
  },
  "language_info": {
   "codemirror_mode": {
    "name": "ipython",
    "version": 3
   },
   "file_extension": ".py",
   "mimetype": "text/x-python",
   "name": "python",
   "nbconvert_exporter": "python",
   "pygments_lexer": "ipython3",
   "version": "3.5.4"
  }
 },
 "nbformat": 4,
 "nbformat_minor": 2
}
