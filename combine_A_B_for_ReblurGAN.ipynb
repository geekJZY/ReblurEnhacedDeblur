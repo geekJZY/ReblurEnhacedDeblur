{
 "cells": [
  {
   "cell_type": "markdown",
   "metadata": {},
   "source": [
    "# Combine A and B for ReblurGAN\n",
    "* A is the input which is sharp image\n",
    "* B is the output which is blur image"
   ]
  },
  {
   "cell_type": "code",
   "execution_count": 2,
   "metadata": {},
   "outputs": [
    {
     "name": "stdout",
     "output_type": "stream",
     "text": [
      "split = GOPR0372_07_00, use 100/100 images\n",
      "split = GOPR0372_07_00, number of images = 100\n",
      "split = GOPR0372_07_01, use 75/75 images\n",
      "split = GOPR0372_07_01, number of images = 75\n",
      "split = GOPR0374_11_00, use 150/150 images\n",
      "split = GOPR0374_11_00, number of images = 150\n",
      "split = GOPR0374_11_01, use 80/80 images\n",
      "split = GOPR0374_11_01, number of images = 80\n",
      "split = GOPR0374_11_02, use 100/100 images\n",
      "split = GOPR0374_11_02, number of images = 100\n",
      "split = GOPR0374_11_03, use 48/48 images\n",
      "split = GOPR0374_11_03, number of images = 48\n",
      "split = GOPR0378_13_00, use 110/110 images\n",
      "split = GOPR0378_13_00, number of images = 110\n",
      "split = GOPR0379_11_00, use 100/100 images\n",
      "split = GOPR0379_11_00, number of images = 100\n",
      "split = GOPR0380_11_00, use 60/60 images\n",
      "split = GOPR0380_11_00, number of images = 60\n",
      "split = GOPR0384_11_01, use 100/100 images\n",
      "split = GOPR0384_11_01, number of images = 100\n",
      "split = GOPR0384_11_02, use 100/100 images\n",
      "split = GOPR0384_11_02, number of images = 100\n",
      "split = GOPR0384_11_03, use 100/100 images\n",
      "split = GOPR0384_11_03, number of images = 100\n",
      "split = GOPR0384_11_04, use 100/100 images\n",
      "split = GOPR0384_11_04, number of images = 100\n",
      "split = GOPR0385_11_00, use 100/100 images\n",
      "split = GOPR0385_11_00, number of images = 100\n",
      "split = GOPR0386_11_00, use 100/100 images\n",
      "split = GOPR0386_11_00, number of images = 100\n",
      "split = GOPR0477_11_00, use 80/80 images\n",
      "split = GOPR0477_11_00, number of images = 80\n",
      "split = GOPR0857_11_00, use 100/100 images\n",
      "split = GOPR0857_11_00, number of images = 100\n",
      "split = GOPR0868_11_01, use 100/100 images\n",
      "split = GOPR0868_11_01, number of images = 100\n",
      "split = GOPR0868_11_02, use 100/100 images\n",
      "split = GOPR0868_11_02, number of images = 100\n",
      "split = GOPR0871_11_01, use 100/100 images\n",
      "split = GOPR0871_11_01, number of images = 100\n",
      "split = GOPR0881_11_00, use 100/100 images\n",
      "split = GOPR0881_11_00, number of images = 100\n",
      "split = GOPR0884_11_00, use 100/100 images\n",
      "split = GOPR0884_11_00, number of images = 100\n"
     ]
    }
   ],
   "source": [
    "from pdb import set_trace as st\n",
    "import os\n",
    "import numpy as np\n",
    "import cv2\n",
    "\n",
    "root_dir = \"/scratch/user/jiangziyu/train\" #training data for GoPro\n",
    "det_dir = os.path.join(root_dir, \"../\", \"GOPRO_for_reblurGAN\")\n",
    "folders = sorted(os.listdir(root_dir))\n",
    "\n",
    "for sp in folders:\n",
    "    img_fold_A = os.path.join(root_dir,sp,\"sharp\")\n",
    "    img_fold_B = os.path.join(root_dir,sp,\"blur\")\n",
    "    img_list = os.listdir(img_fold_A)\n",
    "\n",
    "    num_imgs = min(10000, len(img_list))\n",
    "    print('split = %s, use %d/%d images' % (sp, num_imgs, len(img_list)))\n",
    "    img_fold_AB = os.path.join(det_dir, sp)\n",
    "    if not os.path.isdir(img_fold_AB):\n",
    "        os.makedirs(img_fold_AB)\n",
    "    print('split = %s, number of images = %d' % (sp, num_imgs))\n",
    "    for n in range(num_imgs):\n",
    "        name_A = img_list[n]\n",
    "        path_A = os.path.join(img_fold_A, name_A)\n",
    "        name_B = name_A\n",
    "        path_B = os.path.join(img_fold_B, name_B)\n",
    "        if os.path.isfile(path_A) and os.path.isfile(path_B):\n",
    "            name_AB = name_A\n",
    "            path_AB = os.path.join(img_fold_AB, name_AB)\n",
    "            im_A = cv2.imread(path_A, cv2.IMREAD_COLOR)\n",
    "            im_B = cv2.imread(path_B, cv2.IMREAD_COLOR)\n",
    "            im_AB = np.concatenate([im_A, im_B], 1)\n",
    "            cv2.imwrite(path_AB, im_AB)"
   ]
  },
  {
   "cell_type": "code",
   "execution_count": null,
   "metadata": {
    "collapsed": true
   },
   "outputs": [],
   "source": []
  }
 ],
 "metadata": {
  "kernelspec": {
   "display_name": "Python 3",
   "language": "python",
   "name": "python3"
  },
  "language_info": {
   "codemirror_mode": {
    "name": "ipython",
    "version": 3
   },
   "file_extension": ".py",
   "mimetype": "text/x-python",
   "name": "python",
   "nbconvert_exporter": "python",
   "pygments_lexer": "ipython3",
   "version": "3.5.4"
  }
 },
 "nbformat": 4,
 "nbformat_minor": 2
}
